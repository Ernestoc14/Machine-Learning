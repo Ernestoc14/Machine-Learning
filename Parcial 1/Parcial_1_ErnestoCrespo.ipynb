{
 "cells": [
  {
   "cell_type": "code",
   "execution_count": 61,
   "id": "8fa56ee3-a379-4fe3-8763-0d9dc88d3986",
   "metadata": {},
   "outputs": [],
   "source": [
    "# Paso 1 Cargamos las librerias\n",
    "import seaborn as sn #Graficas\n",
    "import pandas as pd #Manejar la data\n",
    "import matplotlib.pyplot as plt #Graficas\n",
    "from sklearn.metrics import multilabel_confusion_matrix #Matriz de Confusuion\n",
    "\n",
    "# Importando Regresion Lineal \n",
    "from sklearn.linear_model import LinearRegression\n",
    "from sklearn.linear_model import LogisticRegression # Regression logistica\n",
    "from sklearn.model_selection import train_test_split, cross_val_score\n",
    "\n",
    "# Importando Random Forest\n",
    "from sklearn.ensemble import RandomForestClassifier\n",
    "from sklearn.metrics import accuracy_score\n",
    "\n",
    "# Graficas y Arbol de Decisiones\n",
    "import graphviz\n",
    "from sklearn.tree import DecisionTreeClassifier\n",
    "from sklearn.model_selection import train_test_split, cross_val_score\n",
    "\n",
    "# Imposte de lobrerias para labels en matris de Confusion\n",
    "from sklearn.metrics import multilabel_confusion_matrix, accuracy_score\n",
    "\n",
    "import pickle\n",
    "\n",
    "from imblearn.over_sampling import RandomOverSampler, SMOTE\n",
    "from imblearn.combine import SMOTETomek"
   ]
  },
  {
   "cell_type": "code",
   "execution_count": 62,
   "id": "c3bdeb3f-23fb-498a-97a5-6d7c048d9c6f",
   "metadata": {},
   "outputs": [],
   "source": [
    "# Cargando la data\n",
    "data = pd.read_csv(\"parcial.csv\")"
   ]
  },
  {
   "cell_type": "code",
   "execution_count": 63,
   "id": "ead7c60e-edd1-4bb0-a951-a48b5f901672",
   "metadata": {},
   "outputs": [
    {
     "data": {
      "text/plain": [
       "(299, 13)"
      ]
     },
     "execution_count": 63,
     "metadata": {},
     "output_type": "execute_result"
    }
   ],
   "source": [
    "# Paso 2 Verificamos si hay valores nulos \n",
    "data.dropna(inplace=True)\n",
    "data.shape"
   ]
  },
  {
   "cell_type": "code",
   "execution_count": 64,
   "id": "33adcc0f-051a-40ee-9c31-02a35411f9a9",
   "metadata": {},
   "outputs": [
    {
     "name": "stdout",
     "output_type": "stream",
     "text": [
      "Tamano del Set antes de eliminar repetidos: (299, 13)\n",
      "Tamano del Set despues de eliminar repetidos: (299, 13)\n"
     ]
    }
   ],
   "source": [
    "# Paso 2 Parte 2 - Verificamos datos repetidos\n",
    "print(f'Tamano del Set antes de eliminar repetidos: {data.shape}')\n",
    "data.drop_duplicates(inplace=True)\n",
    "print(f'Tamano del Set despues de eliminar repetidos: {data.shape}')"
   ]
  },
  {
   "cell_type": "code",
   "execution_count": 65,
   "id": "42f773d8-4d6f-4d3a-94f4-9aba8ec2859d",
   "metadata": {},
   "outputs": [
    {
     "name": "stdout",
     "output_type": "stream",
     "text": [
      "<class 'pandas.core.frame.DataFrame'>\n",
      "RangeIndex: 299 entries, 0 to 298\n",
      "Data columns (total 13 columns):\n",
      " #   Column                    Non-Null Count  Dtype  \n",
      "---  ------                    --------------  -----  \n",
      " 0   age                       299 non-null    float64\n",
      " 1   anaemia                   299 non-null    int64  \n",
      " 2   creatinine_phosphokinase  299 non-null    int64  \n",
      " 3   diabetes                  299 non-null    int64  \n",
      " 4   ejection_fraction         299 non-null    int64  \n",
      " 5   high_blood_pressure       299 non-null    int64  \n",
      " 6   platelets                 299 non-null    float64\n",
      " 7   serum_creatinine          299 non-null    float64\n",
      " 8   serum_sodium              299 non-null    int64  \n",
      " 9   sex                       299 non-null    int64  \n",
      " 10  smoking                   299 non-null    int64  \n",
      " 11  time                      299 non-null    int64  \n",
      " 12  DEATH_EVENT               299 non-null    int64  \n",
      "dtypes: float64(3), int64(10)\n",
      "memory usage: 30.5 KB\n"
     ]
    }
   ],
   "source": [
    "data.info()"
   ]
  },
  {
   "cell_type": "code",
   "execution_count": 66,
   "id": "e9dd2612-3c75-40cd-a94a-287f12b1a1b2",
   "metadata": {},
   "outputs": [
    {
     "name": "stdout",
     "output_type": "stream",
     "text": [
      "Muertos: 96\n",
      "No Muertos: 204\n"
     ]
    }
   ],
   "source": [
    "# Paso 3 Equilibrio de Datos - Target\n",
    "num_muertos = data['DEATH_EVENT'].sum()\n",
    "num_noMuertos = 300 - num_muertos\n",
    "#num_noMuertos = data['DEATH_EVENT']==False\n",
    "print(\"Muertos:\",num_muertos)\n",
    "print(\"No Muertos:\",num_noMuertos)"
   ]
  },
  {
   "cell_type": "code",
   "execution_count": 67,
   "id": "865c9982-f9ed-4c73-bd56-7dfaf1f12c39",
   "metadata": {},
   "outputs": [
    {
     "name": "stdout",
     "output_type": "stream",
     "text": [
      "Correlacion entre el Time y Death Event:  -0.526963779277577\n"
     ]
    }
   ],
   "source": [
    "# Paso 4 Calcular la correlacion entre variables de time y Death_Event\n",
    "# ya que el time es el tiempo de seguimiento del tratamiento y el Death \n",
    "# Event nos confirma si murió o no, dentro del tiempo de seguimiento\n",
    "correlation = data[\"time\"].corr(data[\"DEATH_EVENT\"])\n",
    "print(\"Correlacion entre el Time y Death Event: \",correlation)"
   ]
  },
  {
   "cell_type": "code",
   "execution_count": 75,
   "id": "4bce74d3-28b5-41d5-9654-1b598fe05928",
   "metadata": {},
   "outputs": [],
   "source": [
    "# Paso 5 Separar los datos en entrenamiento y prueba \n",
    "# Porcentaje y otros detalles en cuenta\n",
    "y = data['DEATH_EVENT']\n",
    "X = data.iloc[:, 0:12]"
   ]
  },
  {
   "cell_type": "code",
   "execution_count": 76,
   "id": "038c6677-fd35-462e-b5ea-57bfd74dea7c",
   "metadata": {},
   "outputs": [
    {
     "name": "stdout",
     "output_type": "stream",
     "text": [
      "Muertas: 203  No Muertas: 203\n"
     ]
    },
    {
     "data": {
      "text/html": [
       "<div>\n",
       "<style scoped>\n",
       "    .dataframe tbody tr th:only-of-type {\n",
       "        vertical-align: middle;\n",
       "    }\n",
       "\n",
       "    .dataframe tbody tr th {\n",
       "        vertical-align: top;\n",
       "    }\n",
       "\n",
       "    .dataframe thead th {\n",
       "        text-align: right;\n",
       "    }\n",
       "</style>\n",
       "<table border=\"1\" class=\"dataframe\">\n",
       "  <thead>\n",
       "    <tr style=\"text-align: right;\">\n",
       "      <th></th>\n",
       "      <th>age</th>\n",
       "      <th>anaemia</th>\n",
       "      <th>creatinine_phosphokinase</th>\n",
       "      <th>diabetes</th>\n",
       "      <th>ejection_fraction</th>\n",
       "      <th>high_blood_pressure</th>\n",
       "      <th>platelets</th>\n",
       "      <th>serum_creatinine</th>\n",
       "      <th>serum_sodium</th>\n",
       "      <th>sex</th>\n",
       "      <th>smoking</th>\n",
       "      <th>time</th>\n",
       "    </tr>\n",
       "  </thead>\n",
       "  <tbody>\n",
       "    <tr>\n",
       "      <th>0</th>\n",
       "      <td>75.0</td>\n",
       "      <td>0</td>\n",
       "      <td>582</td>\n",
       "      <td>0</td>\n",
       "      <td>20</td>\n",
       "      <td>1</td>\n",
       "      <td>265000.00</td>\n",
       "      <td>1.90</td>\n",
       "      <td>130</td>\n",
       "      <td>1</td>\n",
       "      <td>0</td>\n",
       "      <td>4</td>\n",
       "    </tr>\n",
       "    <tr>\n",
       "      <th>1</th>\n",
       "      <td>55.0</td>\n",
       "      <td>0</td>\n",
       "      <td>7861</td>\n",
       "      <td>0</td>\n",
       "      <td>38</td>\n",
       "      <td>0</td>\n",
       "      <td>263358.03</td>\n",
       "      <td>1.10</td>\n",
       "      <td>136</td>\n",
       "      <td>1</td>\n",
       "      <td>0</td>\n",
       "      <td>6</td>\n",
       "    </tr>\n",
       "    <tr>\n",
       "      <th>2</th>\n",
       "      <td>65.0</td>\n",
       "      <td>0</td>\n",
       "      <td>146</td>\n",
       "      <td>0</td>\n",
       "      <td>20</td>\n",
       "      <td>0</td>\n",
       "      <td>162000.00</td>\n",
       "      <td>1.30</td>\n",
       "      <td>129</td>\n",
       "      <td>1</td>\n",
       "      <td>1</td>\n",
       "      <td>7</td>\n",
       "    </tr>\n",
       "    <tr>\n",
       "      <th>3</th>\n",
       "      <td>50.0</td>\n",
       "      <td>1</td>\n",
       "      <td>111</td>\n",
       "      <td>0</td>\n",
       "      <td>20</td>\n",
       "      <td>0</td>\n",
       "      <td>210000.00</td>\n",
       "      <td>1.90</td>\n",
       "      <td>137</td>\n",
       "      <td>1</td>\n",
       "      <td>0</td>\n",
       "      <td>7</td>\n",
       "    </tr>\n",
       "    <tr>\n",
       "      <th>4</th>\n",
       "      <td>65.0</td>\n",
       "      <td>1</td>\n",
       "      <td>160</td>\n",
       "      <td>1</td>\n",
       "      <td>20</td>\n",
       "      <td>0</td>\n",
       "      <td>327000.00</td>\n",
       "      <td>2.70</td>\n",
       "      <td>116</td>\n",
       "      <td>0</td>\n",
       "      <td>0</td>\n",
       "      <td>8</td>\n",
       "    </tr>\n",
       "    <tr>\n",
       "      <th>...</th>\n",
       "      <td>...</td>\n",
       "      <td>...</td>\n",
       "      <td>...</td>\n",
       "      <td>...</td>\n",
       "      <td>...</td>\n",
       "      <td>...</td>\n",
       "      <td>...</td>\n",
       "      <td>...</td>\n",
       "      <td>...</td>\n",
       "      <td>...</td>\n",
       "      <td>...</td>\n",
       "      <td>...</td>\n",
       "    </tr>\n",
       "    <tr>\n",
       "      <th>401</th>\n",
       "      <td>86.0</td>\n",
       "      <td>0</td>\n",
       "      <td>582</td>\n",
       "      <td>0</td>\n",
       "      <td>38</td>\n",
       "      <td>0</td>\n",
       "      <td>263358.03</td>\n",
       "      <td>1.83</td>\n",
       "      <td>134</td>\n",
       "      <td>0</td>\n",
       "      <td>0</td>\n",
       "      <td>95</td>\n",
       "    </tr>\n",
       "    <tr>\n",
       "      <th>402</th>\n",
       "      <td>50.0</td>\n",
       "      <td>0</td>\n",
       "      <td>582</td>\n",
       "      <td>1</td>\n",
       "      <td>38</td>\n",
       "      <td>0</td>\n",
       "      <td>310000.00</td>\n",
       "      <td>1.90</td>\n",
       "      <td>135</td>\n",
       "      <td>1</td>\n",
       "      <td>1</td>\n",
       "      <td>35</td>\n",
       "    </tr>\n",
       "    <tr>\n",
       "      <th>403</th>\n",
       "      <td>65.0</td>\n",
       "      <td>0</td>\n",
       "      <td>113</td>\n",
       "      <td>1</td>\n",
       "      <td>25</td>\n",
       "      <td>0</td>\n",
       "      <td>497000.00</td>\n",
       "      <td>1.83</td>\n",
       "      <td>135</td>\n",
       "      <td>1</td>\n",
       "      <td>0</td>\n",
       "      <td>67</td>\n",
       "    </tr>\n",
       "    <tr>\n",
       "      <th>404</th>\n",
       "      <td>70.0</td>\n",
       "      <td>1</td>\n",
       "      <td>125</td>\n",
       "      <td>0</td>\n",
       "      <td>25</td>\n",
       "      <td>1</td>\n",
       "      <td>237000.00</td>\n",
       "      <td>1.00</td>\n",
       "      <td>140</td>\n",
       "      <td>0</td>\n",
       "      <td>0</td>\n",
       "      <td>15</td>\n",
       "    </tr>\n",
       "    <tr>\n",
       "      <th>405</th>\n",
       "      <td>69.0</td>\n",
       "      <td>0</td>\n",
       "      <td>582</td>\n",
       "      <td>1</td>\n",
       "      <td>35</td>\n",
       "      <td>0</td>\n",
       "      <td>228000.00</td>\n",
       "      <td>3.50</td>\n",
       "      <td>134</td>\n",
       "      <td>1</td>\n",
       "      <td>0</td>\n",
       "      <td>30</td>\n",
       "    </tr>\n",
       "  </tbody>\n",
       "</table>\n",
       "<p>406 rows × 12 columns</p>\n",
       "</div>"
      ],
      "text/plain": [
       "      age  anaemia  creatinine_phosphokinase  diabetes  ejection_fraction  \\\n",
       "0    75.0        0                       582         0                 20   \n",
       "1    55.0        0                      7861         0                 38   \n",
       "2    65.0        0                       146         0                 20   \n",
       "3    50.0        1                       111         0                 20   \n",
       "4    65.0        1                       160         1                 20   \n",
       "..    ...      ...                       ...       ...                ...   \n",
       "401  86.0        0                       582         0                 38   \n",
       "402  50.0        0                       582         1                 38   \n",
       "403  65.0        0                       113         1                 25   \n",
       "404  70.0        1                       125         0                 25   \n",
       "405  69.0        0                       582         1                 35   \n",
       "\n",
       "     high_blood_pressure  platelets  serum_creatinine  serum_sodium  sex  \\\n",
       "0                      1  265000.00              1.90           130    1   \n",
       "1                      0  263358.03              1.10           136    1   \n",
       "2                      0  162000.00              1.30           129    1   \n",
       "3                      0  210000.00              1.90           137    1   \n",
       "4                      0  327000.00              2.70           116    0   \n",
       "..                   ...        ...               ...           ...  ...   \n",
       "401                    0  263358.03              1.83           134    0   \n",
       "402                    0  310000.00              1.90           135    1   \n",
       "403                    0  497000.00              1.83           135    1   \n",
       "404                    1  237000.00              1.00           140    0   \n",
       "405                    0  228000.00              3.50           134    1   \n",
       "\n",
       "     smoking  time  \n",
       "0          0     4  \n",
       "1          0     6  \n",
       "2          1     7  \n",
       "3          0     7  \n",
       "4          0     8  \n",
       "..       ...   ...  \n",
       "401        0    95  \n",
       "402        1    35  \n",
       "403        0    67  \n",
       "404        0    15  \n",
       "405        0    30  \n",
       "\n",
       "[406 rows x 12 columns]"
      ]
     },
     "execution_count": 76,
     "metadata": {},
     "output_type": "execute_result"
    }
   ],
   "source": [
    "# ROS para Duplicar las muestras de la clase menos representada y \n",
    "# Balancear los datos\n",
    "ros = RandomOverSampler()\n",
    "dataRos, targetRos=ros.fit_resample(X,y)\n",
    "muertas = targetRos.sum()\n",
    "no_muertas = targetRos.shape[0] - muertas\n",
    "print(\"Muertas:\",muertas,\" No Muertas:\", no_muertas)\n",
    "dataRos"
   ]
  },
  {
   "cell_type": "code",
   "execution_count": 79,
   "id": "8bface04-2dd4-4f3c-aec6-be0cef479ccd",
   "metadata": {},
   "outputs": [
    {
     "name": "stdout",
     "output_type": "stream",
     "text": [
      "Precision del Modelo Regresion Logistica: 0.9\n",
      "Coeficiente de la pendiente: [ 5.34717326e-02 -9.56010223e-04  2.04063190e-04  5.29371763e-03\n",
      " -5.90866074e-02 -3.18140899e-03 -2.47001645e-06  3.76280714e-02\n",
      "  5.60937192e-03 -3.80961414e-03 -2.86707445e-03 -1.83024956e-02]\n",
      "Término independiente: [0.00082519]\n",
      "Precision media de CrossValidation: 0.7784574468085106\n",
      "Precisión del modelo en Random Forest: 0.9166666666666666\n"
     ]
    }
   ],
   "source": [
    "# Paso 5 Entrenamiento y Prueba\n",
    "# Regresion Logistica \n",
    "# Dividir los datos en conjunto de entrenamiento y conjunto de prueba\n",
    "X_train, X_test, y_train, y_test = train_test_split(X, y, test_size=0.2, random_state=1)\n",
    "\n",
    "\n",
    "# Paso 6 Algoritmos segun Target - LogisticRegression, RandomForestClassifier\n",
    "model = LogisticRegression(max_iter=1000).fit(X_train, y_train)\n",
    "\n",
    "# Realizar predicciones en el conjunto de prueba\n",
    "y_pred = model.predict(X_test)\n",
    "\n",
    "# Evaluacion del Modelo\n",
    "print(\"Precision del Modelo Regresion Logistica:\", model.score(X_test, y_test))\n",
    "# Imprimir los coeficientes de la regresión\n",
    "print(\"Coeficiente de la pendiente:\", model.coef_[0])\n",
    "print(\"Término independiente:\", model.intercept_)\n",
    "\n",
    "# Random Forest\n",
    "# Inicializar y entrenar el Random Forest\n",
    "model = RandomForestClassifier(n_estimators=100, random_state=42)\n",
    "model.fit(X_train, y_train)\n",
    "# Realizar predicciones en el conjunto de prueba\n",
    "y_pred = model.predict(X_test)\n",
    "# Calcular la precisión del modelo\n",
    "accuracy = accuracy_score(y_test, y_pred)\n",
    "print(\"Precisión del modelo en Random Forest:\", accuracy)"
   ]
  },
  {
   "cell_type": "code",
   "execution_count": 81,
   "id": "c55fe484-cddd-4815-88bd-fffa08e4973c",
   "metadata": {},
   "outputs": [
    {
     "name": "stdout",
     "output_type": "stream",
     "text": [
      "Precision media de CrossValidation: 0.8203014184397162\n"
     ]
    }
   ],
   "source": [
    "# Paso 7 - Cross Validation\n",
    "# CrossValidation k-1\n",
    "scores = cross_val_score(model, X_train, y_train, cv=5)\n",
    "#Calculamos la precision media de CrossValidation\n",
    "mean_accuracy = scores.mean()\n",
    "print(\"Precision media de CrossValidation:\", mean_accuracy)"
   ]
  },
  {
   "cell_type": "code",
   "execution_count": 80,
   "id": "9a74270e-f6e6-4c9d-9182-fe1c2122d74e",
   "metadata": {},
   "outputs": [
    {
     "name": "stdout",
     "output_type": "stream",
     "text": [
      "Precision de la Validacion de Data Test: 1.0\n"
     ]
    },
    {
     "data": {
      "text/plain": [
       "array([[[20,  0],\n",
       "        [ 0, 28]],\n",
       "\n",
       "       [[28,  0],\n",
       "        [ 0, 20]]], dtype=int64)"
      ]
     },
     "execution_count": 80,
     "metadata": {},
     "output_type": "execute_result"
    }
   ],
   "source": [
    "# Paso 7 Matriz de Confusion\n",
    "# Matriz de Confusion\n",
    "# Dividimos la data entre Validacion de Train y Validacion de Test\n",
    "Xt, Xcv, Yt, Ycv = train_test_split(X_train, y_train, test_size=0.20, random_state=1)\n",
    "# Hacemos prediccion basado en el modelo del Arbol de Desicion\n",
    "Y_hat = model.predict(Xcv)\n",
    "print(\"Precision de la Validacion de Data Test:\", accuracy_score(Ycv, Y_hat))\n",
    "# Impresion de la amtriz de Confusion para random state de 2\n",
    "multilabel_confusion_matrix(Ycv, Y_hat)"
   ]
  }
 ],
 "metadata": {
  "kernelspec": {
   "display_name": "Python 3 (ipykernel)",
   "language": "python",
   "name": "python3"
  },
  "language_info": {
   "codemirror_mode": {
    "name": "ipython",
    "version": 3
   },
   "file_extension": ".py",
   "mimetype": "text/x-python",
   "name": "python",
   "nbconvert_exporter": "python",
   "pygments_lexer": "ipython3",
   "version": "3.11.7"
  }
 },
 "nbformat": 4,
 "nbformat_minor": 5
}
